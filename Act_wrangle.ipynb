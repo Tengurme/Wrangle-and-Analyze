{
 "cells": [
  {
   "cell_type": "markdown",
   "metadata": {},
   "source": [
    "## Analyzing, and Visualizing Data"
   ]
  },
  {
   "cell_type": "code",
   "execution_count": 1,
   "metadata": {},
   "outputs": [],
   "source": [
    "# importing important libraries \n",
    "import matplotlib\n",
    "import pandas as pd\n",
    "import numpy as np\n",
    "import matplotlib.pyplot as plt\n",
    "import seaborn as sns\n",
    "%matplotlib inline"
   ]
  },
  {
   "cell_type": "code",
   "execution_count": 2,
   "metadata": {},
   "outputs": [],
   "source": [
    "# Style as 'seaborn-colorblind'\n",
    "matplotlib.style.use('seaborn-colorblind')"
   ]
  },
  {
   "cell_type": "code",
   "execution_count": 3,
   "metadata": {},
   "outputs": [
    {
     "name": "stdout",
     "output_type": "stream",
     "text": [
      "<class 'pandas.core.frame.DataFrame'>\n",
      "RangeIndex: 1993 entries, 0 to 1992\n",
      "Data columns (total 24 columns):\n",
      "tweet_id           1993 non-null int64\n",
      "timestamp          1993 non-null object\n",
      "source             1993 non-null object\n",
      "text               1993 non-null object\n",
      "expanded_urls      1993 non-null object\n",
      "name               1361 non-null object\n",
      "doggo              74 non-null object\n",
      "floofer            8 non-null object\n",
      "pupper             212 non-null object\n",
      "puppo              23 non-null object\n",
      "favorites          1993 non-null int64\n",
      "retweets           1993 non-null int64\n",
      "user_followers     1993 non-null int64\n",
      "user_favourites    1993 non-null int64\n",
      "jpg_url            1993 non-null object\n",
      "img_num            1993 non-null int64\n",
      "p1                 1993 non-null object\n",
      "p2                 1993 non-null object\n",
      "p3                 1993 non-null object\n",
      "dog_stage          306 non-null object\n",
      "breed              1685 non-null object\n",
      "confidence         1993 non-null float64\n",
      "rating             1993 non-null object\n",
      "dog_gender         862 non-null object\n",
      "dtypes: float64(1), int64(6), object(17)\n",
      "memory usage: 373.8+ KB\n"
     ]
    }
   ],
   "source": [
    "# Reading the 'twitter_df'\n",
    "df = pd.read_csv('twitter_df.csv')\n",
    "df.info()"
   ]
  },
  {
   "cell_type": "code",
   "execution_count": 4,
   "metadata": {},
   "outputs": [
    {
     "data": {
      "text/html": [
       "<div>\n",
       "<style scoped>\n",
       "    .dataframe tbody tr th:only-of-type {\n",
       "        vertical-align: middle;\n",
       "    }\n",
       "\n",
       "    .dataframe tbody tr th {\n",
       "        vertical-align: top;\n",
       "    }\n",
       "\n",
       "    .dataframe thead th {\n",
       "        text-align: right;\n",
       "    }\n",
       "</style>\n",
       "<table border=\"1\" class=\"dataframe\">\n",
       "  <thead>\n",
       "    <tr style=\"text-align: right;\">\n",
       "      <th></th>\n",
       "      <th>tweet_id</th>\n",
       "      <th>timestamp</th>\n",
       "      <th>source</th>\n",
       "      <th>text</th>\n",
       "      <th>expanded_urls</th>\n",
       "      <th>name</th>\n",
       "      <th>doggo</th>\n",
       "      <th>floofer</th>\n",
       "      <th>pupper</th>\n",
       "      <th>puppo</th>\n",
       "      <th>...</th>\n",
       "      <th>jpg_url</th>\n",
       "      <th>img_num</th>\n",
       "      <th>p1</th>\n",
       "      <th>p2</th>\n",
       "      <th>p3</th>\n",
       "      <th>dog_stage</th>\n",
       "      <th>breed</th>\n",
       "      <th>confidence</th>\n",
       "      <th>rating</th>\n",
       "      <th>dog_gender</th>\n",
       "    </tr>\n",
       "  </thead>\n",
       "  <tbody>\n",
       "    <tr>\n",
       "      <th>0</th>\n",
       "      <td>892420643555336193</td>\n",
       "      <td>2017-08-01 16:23:56</td>\n",
       "      <td>Twitter for iPhone</td>\n",
       "      <td>This is Phineas. He's a mystical boy. Only eve...</td>\n",
       "      <td>https://twitter.com/dog_rates/status/892420643...</td>\n",
       "      <td>Phineas</td>\n",
       "      <td>NaN</td>\n",
       "      <td>NaN</td>\n",
       "      <td>NaN</td>\n",
       "      <td>NaN</td>\n",
       "      <td>...</td>\n",
       "      <td>https://pbs.twimg.com/media/DGKD1-bXoAAIAUK.jpg</td>\n",
       "      <td>1</td>\n",
       "      <td>orange</td>\n",
       "      <td>bagel</td>\n",
       "      <td>banana</td>\n",
       "      <td>NaN</td>\n",
       "      <td>NaN</td>\n",
       "      <td>0.000000</td>\n",
       "      <td>13/10</td>\n",
       "      <td>NaN</td>\n",
       "    </tr>\n",
       "    <tr>\n",
       "      <th>1</th>\n",
       "      <td>683857920510050305</td>\n",
       "      <td>2016-01-04 03:50:08</td>\n",
       "      <td>Twitter for iPhone</td>\n",
       "      <td>Meet Sadie. She fell asleep on the beach and h...</td>\n",
       "      <td>https://twitter.com/dog_rates/status/683857920...</td>\n",
       "      <td>Sadie</td>\n",
       "      <td>NaN</td>\n",
       "      <td>NaN</td>\n",
       "      <td>NaN</td>\n",
       "      <td>NaN</td>\n",
       "      <td>...</td>\n",
       "      <td>https://pbs.twimg.com/media/CX2NJmRWYAAxz_5.jpg</td>\n",
       "      <td>1</td>\n",
       "      <td>bluetick</td>\n",
       "      <td>Shetland_sheepdog</td>\n",
       "      <td>beagle</td>\n",
       "      <td>NaN</td>\n",
       "      <td>bluetick</td>\n",
       "      <td>0.174738</td>\n",
       "      <td>10/10</td>\n",
       "      <td>female</td>\n",
       "    </tr>\n",
       "    <tr>\n",
       "      <th>2</th>\n",
       "      <td>684097758874210310</td>\n",
       "      <td>2016-01-04 19:43:10</td>\n",
       "      <td>Twitter for iPhone</td>\n",
       "      <td>Say hello to Lupe. This is how she sleeps. 10/...</td>\n",
       "      <td>https://twitter.com/dog_rates/status/684097758...</td>\n",
       "      <td>Lupe</td>\n",
       "      <td>NaN</td>\n",
       "      <td>NaN</td>\n",
       "      <td>NaN</td>\n",
       "      <td>NaN</td>\n",
       "      <td>...</td>\n",
       "      <td>https://pbs.twimg.com/media/CX5nR5oWsAAiclh.jpg</td>\n",
       "      <td>1</td>\n",
       "      <td>Labrador_retriever</td>\n",
       "      <td>German_short-haired_pointer</td>\n",
       "      <td>Chesapeake_Bay_retriever</td>\n",
       "      <td>NaN</td>\n",
       "      <td>Labrador_retriever</td>\n",
       "      <td>0.627856</td>\n",
       "      <td>10/10</td>\n",
       "      <td>female</td>\n",
       "    </tr>\n",
       "    <tr>\n",
       "      <th>3</th>\n",
       "      <td>684122891630342144</td>\n",
       "      <td>2016-01-04 21:23:02</td>\n",
       "      <td>Twitter for iPhone</td>\n",
       "      <td>Heartwarming scene of two pups that want nothi...</td>\n",
       "      <td>https://twitter.com/dog_rates/status/684122891...</td>\n",
       "      <td>NaN</td>\n",
       "      <td>NaN</td>\n",
       "      <td>NaN</td>\n",
       "      <td>NaN</td>\n",
       "      <td>NaN</td>\n",
       "      <td>...</td>\n",
       "      <td>https://pbs.twimg.com/media/CX5-HslWQAIiXKB.jpg</td>\n",
       "      <td>1</td>\n",
       "      <td>cheetah</td>\n",
       "      <td>Arabian_camel</td>\n",
       "      <td>jaguar</td>\n",
       "      <td>NaN</td>\n",
       "      <td>NaN</td>\n",
       "      <td>0.000000</td>\n",
       "      <td>11/10</td>\n",
       "      <td>NaN</td>\n",
       "    </tr>\n",
       "    <tr>\n",
       "      <th>4</th>\n",
       "      <td>684177701129875456</td>\n",
       "      <td>2016-01-05 01:00:50</td>\n",
       "      <td>Twitter for iPhone</td>\n",
       "      <td>This is Kulet. She's very proud of the flower ...</td>\n",
       "      <td>https://twitter.com/dog_rates/status/684177701...</td>\n",
       "      <td>Kulet</td>\n",
       "      <td>NaN</td>\n",
       "      <td>NaN</td>\n",
       "      <td>NaN</td>\n",
       "      <td>NaN</td>\n",
       "      <td>...</td>\n",
       "      <td>https://pbs.twimg.com/media/CX6v_JOWsAE0beZ.jpg</td>\n",
       "      <td>1</td>\n",
       "      <td>chow</td>\n",
       "      <td>German_shepherd</td>\n",
       "      <td>golden_retriever</td>\n",
       "      <td>NaN</td>\n",
       "      <td>chow</td>\n",
       "      <td>0.334783</td>\n",
       "      <td>10/10</td>\n",
       "      <td>female</td>\n",
       "    </tr>\n",
       "  </tbody>\n",
       "</table>\n",
       "<p>5 rows × 24 columns</p>\n",
       "</div>"
      ],
      "text/plain": [
       "             tweet_id            timestamp              source  \\\n",
       "0  892420643555336193  2017-08-01 16:23:56  Twitter for iPhone   \n",
       "1  683857920510050305  2016-01-04 03:50:08  Twitter for iPhone   \n",
       "2  684097758874210310  2016-01-04 19:43:10  Twitter for iPhone   \n",
       "3  684122891630342144  2016-01-04 21:23:02  Twitter for iPhone   \n",
       "4  684177701129875456  2016-01-05 01:00:50  Twitter for iPhone   \n",
       "\n",
       "                                                text  \\\n",
       "0  This is Phineas. He's a mystical boy. Only eve...   \n",
       "1  Meet Sadie. She fell asleep on the beach and h...   \n",
       "2  Say hello to Lupe. This is how she sleeps. 10/...   \n",
       "3  Heartwarming scene of two pups that want nothi...   \n",
       "4  This is Kulet. She's very proud of the flower ...   \n",
       "\n",
       "                                       expanded_urls     name doggo floofer  \\\n",
       "0  https://twitter.com/dog_rates/status/892420643...  Phineas   NaN     NaN   \n",
       "1  https://twitter.com/dog_rates/status/683857920...    Sadie   NaN     NaN   \n",
       "2  https://twitter.com/dog_rates/status/684097758...     Lupe   NaN     NaN   \n",
       "3  https://twitter.com/dog_rates/status/684122891...      NaN   NaN     NaN   \n",
       "4  https://twitter.com/dog_rates/status/684177701...    Kulet   NaN     NaN   \n",
       "\n",
       "  pupper puppo    ...                                              jpg_url  \\\n",
       "0    NaN   NaN    ...      https://pbs.twimg.com/media/DGKD1-bXoAAIAUK.jpg   \n",
       "1    NaN   NaN    ...      https://pbs.twimg.com/media/CX2NJmRWYAAxz_5.jpg   \n",
       "2    NaN   NaN    ...      https://pbs.twimg.com/media/CX5nR5oWsAAiclh.jpg   \n",
       "3    NaN   NaN    ...      https://pbs.twimg.com/media/CX5-HslWQAIiXKB.jpg   \n",
       "4    NaN   NaN    ...      https://pbs.twimg.com/media/CX6v_JOWsAE0beZ.jpg   \n",
       "\n",
       "   img_num                  p1                           p2  \\\n",
       "0        1              orange                        bagel   \n",
       "1        1            bluetick            Shetland_sheepdog   \n",
       "2        1  Labrador_retriever  German_short-haired_pointer   \n",
       "3        1             cheetah                Arabian_camel   \n",
       "4        1                chow              German_shepherd   \n",
       "\n",
       "                         p3  dog_stage               breed confidence rating  \\\n",
       "0                    banana        NaN                 NaN   0.000000  13/10   \n",
       "1                    beagle        NaN            bluetick   0.174738  10/10   \n",
       "2  Chesapeake_Bay_retriever        NaN  Labrador_retriever   0.627856  10/10   \n",
       "3                    jaguar        NaN                 NaN   0.000000  11/10   \n",
       "4          golden_retriever        NaN                chow   0.334783  10/10   \n",
       "\n",
       "  dog_gender  \n",
       "0        NaN  \n",
       "1     female  \n",
       "2     female  \n",
       "3        NaN  \n",
       "4     female  \n",
       "\n",
       "[5 rows x 24 columns]"
      ]
     },
     "execution_count": 4,
     "metadata": {},
     "output_type": "execute_result"
    }
   ],
   "source": [
    "df.head()"
   ]
  },
  {
   "cell_type": "code",
   "execution_count": 5,
   "metadata": {},
   "outputs": [],
   "source": [
    "# Changing to right dtypes\n",
    "df['tweet_id'] = df['tweet_id'].astype(str)\n",
    "df['timestamp'] = pd.to_datetime(df.timestamp)\n",
    "df['source'] = df['source'].astype('category')\n",
    "df['favorites'] = df['favorites'].astype(int)\n",
    "df['retweets'] = df['retweets'].astype(int)\n",
    "df['user_followers'] = df['user_followers'].astype(int)\n",
    "df['dog_stage'] = df['dog_stage'].astype('category')\n",
    "df['dog_gender'] = df['dog_gender'].astype('category')"
   ]
  },
  {
   "cell_type": "code",
   "execution_count": 6,
   "metadata": {},
   "outputs": [
    {
     "data": {
      "text/html": [
       "<div>\n",
       "<style scoped>\n",
       "    .dataframe tbody tr th:only-of-type {\n",
       "        vertical-align: middle;\n",
       "    }\n",
       "\n",
       "    .dataframe tbody tr th {\n",
       "        vertical-align: top;\n",
       "    }\n",
       "\n",
       "    .dataframe thead th {\n",
       "        text-align: right;\n",
       "    }\n",
       "</style>\n",
       "<table border=\"1\" class=\"dataframe\">\n",
       "  <thead>\n",
       "    <tr style=\"text-align: right;\">\n",
       "      <th></th>\n",
       "      <th>favorites</th>\n",
       "      <th>retweets</th>\n",
       "      <th>user_followers</th>\n",
       "      <th>user_favourites</th>\n",
       "      <th>img_num</th>\n",
       "      <th>confidence</th>\n",
       "    </tr>\n",
       "  </thead>\n",
       "  <tbody>\n",
       "    <tr>\n",
       "      <th>count</th>\n",
       "      <td>1993.000000</td>\n",
       "      <td>1993.000000</td>\n",
       "      <td>1.993000e+03</td>\n",
       "      <td>1993.000000</td>\n",
       "      <td>1993.000000</td>\n",
       "      <td>1993.000000</td>\n",
       "    </tr>\n",
       "    <tr>\n",
       "      <th>mean</th>\n",
       "      <td>8882.965379</td>\n",
       "      <td>2731.905168</td>\n",
       "      <td>6.629520e+06</td>\n",
       "      <td>132917.979930</td>\n",
       "      <td>1.203211</td>\n",
       "      <td>0.464930</td>\n",
       "    </tr>\n",
       "    <tr>\n",
       "      <th>std</th>\n",
       "      <td>12609.068748</td>\n",
       "      <td>4714.424803</td>\n",
       "      <td>1.691947e+02</td>\n",
       "      <td>0.199393</td>\n",
       "      <td>0.560899</td>\n",
       "      <td>0.339545</td>\n",
       "    </tr>\n",
       "    <tr>\n",
       "      <th>min</th>\n",
       "      <td>80.000000</td>\n",
       "      <td>13.000000</td>\n",
       "      <td>6.629057e+06</td>\n",
       "      <td>132916.000000</td>\n",
       "      <td>1.000000</td>\n",
       "      <td>0.000000</td>\n",
       "    </tr>\n",
       "    <tr>\n",
       "      <th>25%</th>\n",
       "      <td>1930.000000</td>\n",
       "      <td>612.000000</td>\n",
       "      <td>6.629344e+06</td>\n",
       "      <td>132918.000000</td>\n",
       "      <td>1.000000</td>\n",
       "      <td>0.140394</td>\n",
       "    </tr>\n",
       "    <tr>\n",
       "      <th>50%</th>\n",
       "      <td>4053.000000</td>\n",
       "      <td>1318.000000</td>\n",
       "      <td>6.629536e+06</td>\n",
       "      <td>132918.000000</td>\n",
       "      <td>1.000000</td>\n",
       "      <td>0.458746</td>\n",
       "    </tr>\n",
       "    <tr>\n",
       "      <th>75%</th>\n",
       "      <td>11192.000000</td>\n",
       "      <td>3139.000000</td>\n",
       "      <td>6.629660e+06</td>\n",
       "      <td>132918.000000</td>\n",
       "      <td>1.000000</td>\n",
       "      <td>0.776400</td>\n",
       "    </tr>\n",
       "    <tr>\n",
       "      <th>max</th>\n",
       "      <td>143885.000000</td>\n",
       "      <td>77689.000000</td>\n",
       "      <td>6.629803e+06</td>\n",
       "      <td>132918.000000</td>\n",
       "      <td>4.000000</td>\n",
       "      <td>0.999956</td>\n",
       "    </tr>\n",
       "  </tbody>\n",
       "</table>\n",
       "</div>"
      ],
      "text/plain": [
       "           favorites      retweets  user_followers  user_favourites  \\\n",
       "count    1993.000000   1993.000000    1.993000e+03      1993.000000   \n",
       "mean     8882.965379   2731.905168    6.629520e+06    132917.979930   \n",
       "std     12609.068748   4714.424803    1.691947e+02         0.199393   \n",
       "min        80.000000     13.000000    6.629057e+06    132916.000000   \n",
       "25%      1930.000000    612.000000    6.629344e+06    132918.000000   \n",
       "50%      4053.000000   1318.000000    6.629536e+06    132918.000000   \n",
       "75%     11192.000000   3139.000000    6.629660e+06    132918.000000   \n",
       "max    143885.000000  77689.000000    6.629803e+06    132918.000000   \n",
       "\n",
       "           img_num   confidence  \n",
       "count  1993.000000  1993.000000  \n",
       "mean      1.203211     0.464930  \n",
       "std       0.560899     0.339545  \n",
       "min       1.000000     0.000000  \n",
       "25%       1.000000     0.140394  \n",
       "50%       1.000000     0.458746  \n",
       "75%       1.000000     0.776400  \n",
       "max       4.000000     0.999956  "
      ]
     },
     "execution_count": 6,
     "metadata": {},
     "output_type": "execute_result"
    }
   ],
   "source": [
    "# looking at summary of df\n",
    "df.describe()"
   ]
  },
  {
   "cell_type": "markdown",
   "metadata": {},
   "source": [
    "**Plot the correlation map to see the relationship between variables**"
   ]
  },
  {
   "cell_type": "code",
   "execution_count": 21,
   "metadata": {},
   "outputs": [
    {
     "data": {
      "image/png": "[encoded data removed]",
      "text/plain": [
       "<matplotlib.figure.Figure at 0x7f5ca04a4e48>"
      ]
     },
     "metadata": {
      "needs_background": "light"
     },
     "output_type": "display_data"
    }
   ],
   "source": [
    "# ploting co-relation matrix\n",
    "f,ax = plt.subplots(figsize=(12, 12))\n",
    "corr = df.corr()\n",
    "ax = sns.heatmap(\n",
    "    corr, \n",
    "    vmin=-1, vmax=1, center=0,\n",
    "    cmap=sns.diverging_palette(20, 220, n=200),\n",
    "    square=True\n",
    ")\n",
    "ax.set_xticklabels(\n",
    "    ax.get_xticklabels(),\n",
    "    rotation=45,\n",
    "    horizontalalignment='right'\n",
    ");"
   ]
  },
  {
   "cell_type": "markdown",
   "metadata": {},
   "source": [
    "- There is strong correlation between favorites and retweet(more favorites mean more retweets)\n",
    "- Followers and retweet have negative correlation(-.4) which means they opposite in normal prediction\n",
    "- Rating_numerator doesn't relate with any features"
   ]
  },
  {
   "cell_type": "markdown",
   "metadata": {},
   "source": [
    "**Tweet Retweet Vs Favorites**"
   ]
  },
  {
   "cell_type": "code",
   "execution_count": 8,
   "metadata": {},
   "outputs": [],
   "source": [
    "# Creating colors columns of light colors\n",
    "colors = ['#ff9999','#66b3ff','#99ff99','#ffcc99','#E580E8','#FF684F','#DCDCDD']"
   ]
  },
  {
   "cell_type": "code",
   "execution_count": 9,
   "metadata": {},
   "outputs": [
    {
     "data": {
      "image/png": "[encoded data removed]",
      "text/plain": [
       "<matplotlib.figure.Figure at 0x7f5ca0fac8d0>"
      ]
     },
     "metadata": {
      "needs_background": "light"
     },
     "output_type": "display_data"
    }
   ],
   "source": [
    "# plotting scatter plot\n",
    "ax = df.plot(kind='scatter',x='favorites',y='retweets', alpha = 0.5, color = colors)\n",
    "plt.xlabel('Likes')\n",
    "plt.ylabel('Retweets')\n",
    "plt.title('Retweets and Likes Scatter Plot')\n",
    "ax.set_facecolor(\"#f0f8ff\");"
   ]
  },
  {
   "cell_type": "markdown",
   "metadata": {},
   "source": [
    "- high and postive correlation b/w Favorites and Retweets"
   ]
  },
  {
   "cell_type": "markdown",
   "metadata": {},
   "source": [
    "**Dog stage count**:"
   ]
  },
  {
   "cell_type": "code",
   "execution_count": 11,
   "metadata": {},
   "outputs": [
    {
     "data": {
      "text/plain": [
       "pupper     203\n",
       "doggo       74\n",
       "puppo       22\n",
       "floofer      7\n",
       "Name: dog_stage, dtype: int64"
      ]
     },
     "execution_count": 11,
     "metadata": {},
     "output_type": "execute_result"
    }
   ],
   "source": [
    "df['dog_stage'].value_counts()"
   ]
  },
  {
   "cell_type": "code",
   "execution_count": 12,
   "metadata": {},
   "outputs": [],
   "source": [
    "# preparing for pie-chart\n",
    "dog_stage_count = list(df['dog_stage'].value_counts())[0:4]\n",
    "dog_stages = df[df['dog_stage'] != 'None']['dog_stage'].value_counts().index.tolist()[0:4]\n",
    "explode = np.linspace(0,0.4,4)"
   ]
  },
  {
   "cell_type": "code",
   "execution_count": 13,
   "metadata": {},
   "outputs": [
    {
     "data": {
      "image/png": "[encoded data removed]",
      "text/plain": [
       "<matplotlib.figure.Figure at 0x7f5ca04f58d0>"
      ]
     },
     "metadata": {},
     "output_type": "display_data"
    }
   ],
   "source": [
    "# plotting dog stages with a pie chart.\n",
    "fig1, ax1 = plt.subplots()\n",
    "ax1.pie(dog_stage_count, explode = explode, labels = dog_stages, autopct='%.2f%%', colors = colors)\n",
    "ax1.axis('equal');"
   ]
  },
  {
   "cell_type": "markdown",
   "metadata": {},
   "source": [
    "**Most accounted Breed**"
   ]
  },
  {
   "cell_type": "code",
   "execution_count": 14,
   "metadata": {},
   "outputs": [
    {
     "data": {
      "image/png": "[encoded data removed]",
      "text/plain": [
       "<matplotlib.figure.Figure at 0x7f5ca04f5358>"
      ]
     },
     "metadata": {
      "needs_background": "light"
     },
     "output_type": "display_data"
    }
   ],
   "source": [
    "# ploting breed wise with count >= 20 \n",
    "ten = df.groupby('breed').filter(lambda x: len(x) >= 20)\n",
    "ax = ten['breed'].value_counts().plot(kind = 'bar', color=colors)\n",
    "plt.title('Most Rated Breed')\n",
    "ax.set_facecolor(\"#f5f5f5\");"
   ]
  },
  {
   "cell_type": "markdown",
   "metadata": {},
   "source": [
    "- We must know any breed is equally important. However through the data golden_retriever most accounted breed"
   ]
  },
  {
   "cell_type": "markdown",
   "metadata": {},
   "source": [
    "**Looking to breed with favorite and retweets using prediction #1**"
   ]
  },
  {
   "cell_type": "code",
   "execution_count": 15,
   "metadata": {},
   "outputs": [
    {
     "data": {
      "text/plain": [
       "p1\n",
       "golden_retriever      1687262\n",
       "Labrador_retriever    1099245\n",
       "Pembroke               996938\n",
       "Chihuahua              682941\n",
       "Samoyed                533688\n",
       "French_bulldog         478019\n",
       "chow                   408406\n",
       "pug                    314450\n",
       "cocker_spaniel         310251\n",
       "Pomeranian             304159\n",
       "Name: favorites, dtype: int64"
      ]
     },
     "execution_count": 15,
     "metadata": {},
     "output_type": "execute_result"
    }
   ],
   "source": [
    "# Most Favorite dogs \n",
    "dog_fav = df.groupby('p1')['favorites'].sum().sort_values(ascending=False).head(10)\n",
    "dog_fav"
   ]
  },
  {
   "cell_type": "code",
   "execution_count": 16,
   "metadata": {},
   "outputs": [
    {
     "data": {
      "text/plain": [
       "p1\n",
       "golden_retriever      495259\n",
       "Labrador_retriever    355794\n",
       "Pembroke              276009\n",
       "Chihuahua             221340\n",
       "Samoyed               179938\n",
       "French_bulldog        123170\n",
       "chow                  116442\n",
       "Pomeranian            106507\n",
       "cocker_spaniel         98001\n",
       "pug                    96722\n",
       "Name: retweets, dtype: int64"
      ]
     },
     "execution_count": 16,
     "metadata": {},
     "output_type": "execute_result"
    }
   ],
   "source": [
    "# Most Retweet dogs\n",
    "dog_retweet = df.groupby('p1')['retweets'].sum().sort_values(ascending=False).head(10)\n",
    "dog_retweet"
   ]
  },
  {
   "cell_type": "code",
   "execution_count": 17,
   "metadata": {},
   "outputs": [
    {
     "data": {
      "image/png": "[encoded data removed]",
      "text/plain": [
       "<matplotlib.figure.Figure at 0x7f5ca0460358>"
      ]
     },
     "metadata": {
      "needs_background": "light"
     },
     "output_type": "display_data"
    }
   ],
   "source": [
    "# Creates figure\n",
    "fig = plt.figure() \n",
    "# Creates axes\n",
    "ax = fig.add_subplot(111) \n",
    "\n",
    "# Share axis ax with ax2\n",
    "ax2 = ax.twinx() \n",
    "\n",
    "width = 0.4\n",
    "\n",
    "dog_fav.plot(figsize = (10,6), kind='bar', color='#66b3ff', ax=ax, width=width, position=1, title='Popular Breeds: Likes vs. Retweets')\n",
    "dog_retweet.plot(figsize = (10,6), kind='bar', color='#99ff99', ax=ax2, width=width, position=0)\n",
    "\n",
    "# Turns off grid on the left Axis and right Axis.\n",
    "ax.grid(False)\n",
    "ax2.grid(False)\n",
    "\n",
    "# Adding labels \n",
    "ax.set_ylabel('Likes')\n",
    "ax2.set_ylabel('Retweets')\n",
    "\n",
    "ax.set_xticklabels(dog_fav.index, rotation=30)\n",
    "\n",
    "h1, l1 = ax.get_legend_handles_labels()\n",
    "h2, l2 = ax2.get_legend_handles_labels()\n",
    "\n",
    "plt.legend(h1+h2, l1+l2, loc=1)\n",
    "plt.show()"
   ]
  },
  {
   "cell_type": "code",
   "execution_count": 18,
   "metadata": {},
   "outputs": [
    {
     "data": {
      "text/plain": [
       "Charlie      11\n",
       "Lucy         10\n",
       "Cooper       10\n",
       "Oliver       10\n",
       "Penny         9\n",
       "Tucker        9\n",
       "Sadie         8\n",
       "Winston       8\n",
       "Daisy         7\n",
       "Lola          7\n",
       "Toby          7\n",
       "Stanley       6\n",
       "Bo            6\n",
       "Jax           6\n",
       "Koda          6\n",
       "Bella         6\n",
       "Scout         5\n",
       "Oscar         5\n",
       "Chester       5\n",
       "Dave          5\n",
       "Buddy         5\n",
       "Bailey        5\n",
       "Milo          5\n",
       "Leo           5\n",
       "Louis         5\n",
       "Rusty         5\n",
       "Reggie        4\n",
       "Jack          4\n",
       "Brody         4\n",
       "Cassie        4\n",
       "             ..\n",
       "Philbert      1\n",
       "Nugget        1\n",
       "Kramer        1\n",
       "Fido          1\n",
       "Marlee        1\n",
       "Gerbald       1\n",
       "Cermet        1\n",
       "Hanz          1\n",
       "Tango         1\n",
       "Jebberson     1\n",
       "Staniel       1\n",
       "Josep         1\n",
       "Gidget        1\n",
       "Zuzu          1\n",
       "Kulet         1\n",
       "Tyrone        1\n",
       "Jerome        1\n",
       "Willem        1\n",
       "Severus       1\n",
       "Tito          1\n",
       "Tripp         1\n",
       "Fletcher      1\n",
       "Amber         1\n",
       "Juckson       1\n",
       "Grizz         1\n",
       "Sobe          1\n",
       "Bloop         1\n",
       "Luther        1\n",
       "Jeffrie       1\n",
       "Jazzy         1\n",
       "Name: name, Length: 923, dtype: int64"
      ]
     },
     "execution_count": 18,
     "metadata": {},
     "output_type": "execute_result"
    }
   ],
   "source": [
    "df.name.value_counts()"
   ]
  },
  {
   "cell_type": "markdown",
   "metadata": {},
   "source": [
    "- Oliver, Cooper, Charlie, and Lucy is most popular name"
   ]
  },
  {
   "cell_type": "code",
   "execution_count": 19,
   "metadata": {},
   "outputs": [
    {
     "data": {
      "text/plain": [
       "12/10    450\n",
       "10/10    418\n",
       "11/10    396\n",
       "13/10    261\n",
       "9/10     150\n",
       "8/10      95\n",
       "7/10      51\n",
       "14/10     35\n",
       "5/10      32\n",
       "6/10      32\n",
       "Name: rating, dtype: int64"
      ]
     },
     "execution_count": 19,
     "metadata": {},
     "output_type": "execute_result"
    }
   ],
   "source": [
    "# most account rating\n",
    "df['rating'].value_counts()[:10]"
   ]
  },
  {
   "cell_type": "code",
   "execution_count": 20,
   "metadata": {},
   "outputs": [
    {
     "data": {
      "text/plain": [
       "('99/90', '0/10')"
      ]
     },
     "execution_count": 20,
     "metadata": {},
     "output_type": "execute_result"
    }
   ],
   "source": [
    "#Max and Min rating\n",
    "df['rating'].max(), df['rating'].min()"
   ]
  },
  {
   "cell_type": "markdown",
   "metadata": {},
   "source": [
    "## Conclusion: "
   ]
  },
  {
   "cell_type": "markdown",
   "metadata": {},
   "source": [
    "- WeRateDogs (@dog_rates) shares beautiful pictures of dogs with adorable poses and expression. These are rated of scale of one to ten, however in most cases the rating were much much higher with max '99/90' and min '0/10'. Most rated were '12/10' and '10/10'.\n",
    "- Most popular Dog name is Oliver, Cooper, Charlie, and Lucy.\n",
    "- Most popular breed of dog is golden_retriever and second Labrador_retriever.\n",
    "- Most of these dogs were in pupper stage.\n",
    "- And its highly likely that more follower means more retweets."
   ]
  },
  {
   "cell_type": "code",
   "execution_count": null,
   "metadata": {},
   "outputs": [],
   "source": []
  }
 ],
 "metadata": {
  "kernelspec": {
   "display_name": "Python 3",
   "language": "python",
   "name": "python3"
  },
  "language_info": {
   "codemirror_mode": {
    "name": "ipython",
    "version": 3
   },
   "file_extension": ".py",
   "mimetype": "text/x-python",
   "name": "python",
   "nbconvert_exporter": "python",
   "pygments_lexer": "ipython3",
   "version": "3.6.3"
  }
 },
 "nbformat": 4,
 "nbformat_minor": 2
}
